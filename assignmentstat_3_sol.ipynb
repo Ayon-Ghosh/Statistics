{
 "cells": [
  {
   "cell_type": "markdown",
   "metadata": {},
   "source": [
    "# Assignment Stat 3 Solution"
   ]
  },
  {
   "cell_type": "markdown",
   "metadata": {},
   "source": [
    "Problem Statement 1:\n",
    "\n",
    "Blood glucose levels for obese patients have a mean of 100 with a standard deviation of 15. A researcher thinks that a diet high in raw cornstarch will have a positive effect on blood glucose levels. A sample of 36 patients who have tried the raw cornstarch diet have a mean glucose level of 108. Test the hypothesis that the raw cornstarch had an effect or not."
   ]
  },
  {
   "cell_type": "code",
   "execution_count": 2,
   "metadata": {},
   "outputs": [
    {
     "name": "stdout",
     "output_type": "stream",
     "text": [
      "Z Score: 3.2\n",
      "SE: 2.5\n",
      "p(0.05) from z table: 1.64\n",
      "we reject the null hypothesis because the Z score lies in the rejection region\n"
     ]
    }
   ],
   "source": [
    "import math\n",
    "mu = 100\n",
    "sigma = 15\n",
    "n = 36\n",
    "x = 108\n",
    "SE = sigma/math.sqrt(n)\n",
    "z = (x - mu)/SE\n",
    "print('Z Score: {}'.format(z))\n",
    "print('SE: {}'.format(SE))\n",
    "#P(0.05) from Z table\n",
    "Z_05 = 1.64\n",
    "print('p(0.05) from z table: {}'.format(Z_05))\n",
    "print('we reject the null hypothesis because the Z score lies in the rejection region')"
   ]
  },
  {
   "cell_type": "markdown",
   "metadata": {},
   "source": [
    "Problem Statement 2:\n",
    "\n",
    "In one state, 52% of the voters are Republicans, and 48% are Democrats. In a second state, 47% of the voters are Republicans, and 53% are Democrats. Suppose a simple random sample of 100 voters are surveyed from each state. What is the probability that the survey will show a greater percentage of Republican voters in the second state than in the first state?"
   ]
  },
  {
   "cell_type": "code",
   "execution_count": 5,
   "metadata": {},
   "outputs": [
    {
     "name": "stdout",
     "output_type": "stream",
     "text": [
      "Mu :  0.050000000000000044 Std :  0.07061869440877536\n",
      "Z_score(R1,R2) :  -0.7080278164104213\n"
     ]
    }
   ],
   "source": [
    "n1 = 100\n",
    "R1 = .52\n",
    "D1 = 1-R1\n",
    "\n",
    "n2 = 100\n",
    "R2 = .47\n",
    "D2 = 1-R2\n",
    "#The mean of the difference in sample proportions .i.e Expected Value E[R1 -R2] = R1 - R2 = mu\n",
    "mu =  R1 - R2\n",
    "\n",
    "#The standard deviation of the difference (std)\n",
    "std = math.sqrt(((R1 * D1 ) / n1) + ((R2 * D2) /n2))\n",
    "print(\"Mu : \",mu,\"Std : \",std)\n",
    "\n",
    "# find the probability of R1<R2: Now mu which R1-R2>0. we have to find the probabilty that mu <0\n",
    "x = 0\n",
    "#To find this probability, we need to transform the random variable (R1 - R2) into a z-score. \n",
    "#That transformation appears below.\n",
    "Z_R1_R2 = ( x - mu)/std\n",
    "\n",
    "print(\"Z_score(R1,R2) : \",Z_R1_R2)\n",
    "#Z table -- the probability of z-score <= 0.7082 is 0.24.\n",
    "\n",
    "#Therefore, the probability that the survey will show a greater percentage of Republican voters \n",
    "#in the second state than in the first state is 0.24."
   ]
  },
  {
   "cell_type": "markdown",
   "metadata": {},
   "source": [
    "Problem Statement 3:\n",
    "\n",
    "You take the SAT and score 1100. The mean score for the SAT is 1026 and the standard deviation is 209. How well did you score on the test compared to the average test taker?"
   ]
  },
  {
   "cell_type": "code",
   "execution_count": 6,
   "metadata": {},
   "outputs": [
    {
     "name": "stdout",
     "output_type": "stream",
     "text": [
      "Z Score :  0.35406698564593303\n",
      "My Score is in the range 817 - 1235  with a  zscore 0.35\n"
     ]
    }
   ],
   "source": [
    "x = 1100\n",
    "mu = 1026\n",
    "sd = 209 \n",
    "z = ( x - mu)/sd\n",
    "print(\"Z Score : \",z)\n",
    "#the above calculation shows that my score is 0.35 standard deviations above the mean\n",
    "print(\"My Score is in the range {} - {}  with a  zscore {:.2f}\".format(mu - sd,mu + sd,z))"
   ]
  },
  {
   "cell_type": "code",
   "execution_count": null,
   "metadata": {},
   "outputs": [],
   "source": []
  }
 ],
 "metadata": {
  "kernelspec": {
   "display_name": "Python 3",
   "language": "python",
   "name": "python3"
  },
  "language_info": {
   "codemirror_mode": {
    "name": "ipython",
    "version": 3
   },
   "file_extension": ".py",
   "mimetype": "text/x-python",
   "name": "python",
   "nbconvert_exporter": "python",
   "pygments_lexer": "ipython3",
   "version": "3.7.6"
  }
 },
 "nbformat": 4,
 "nbformat_minor": 4
}
