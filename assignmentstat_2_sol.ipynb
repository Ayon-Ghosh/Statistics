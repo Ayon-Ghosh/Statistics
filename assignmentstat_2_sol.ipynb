{
 "cells": [
  {
   "cell_type": "markdown",
   "metadata": {},
   "source": [
    "# Assignment Stat 2 Solution"
   ]
  },
  {
   "cell_type": "markdown",
   "metadata": {},
   "source": [
    "Problem Statement 1:  \n",
    " \n",
    "In each of the following situations, state whether it is a correctly stated hypothesis testing problem and why? \n",
    " \n",
    "1. 𝐻0: 𝜇 = 25, 𝐻1: 𝜇 ≠ 25 2. 𝐻0: 𝜎 > 10, 𝐻1: 𝜎 = 10 3. 𝐻0: 𝑥  = 50, 𝐻1: 𝑥  ≠ 50 4. 𝐻0: 𝑝 = 0.1, 𝐻1: 𝑝 = 0.5 5. 𝐻0: 𝑠 = 30, 𝐻1: 𝑠 > 30 \n",
    " \n",
    " "
   ]
  },
  {
   "cell_type": "markdown",
   "metadata": {},
   "source": [
    "1: correct. H0 and H1 both speaks about population mean\n",
    "\n",
    "2: incorrect - doesnt talk about population mean\n",
    "\n",
    "3: incorrect - doesnt talk about population but sample\n",
    "\n",
    "4: incorrect - H0 and H1 are different\n",
    "\n",
    "5: incorrect - doesnt talk about population    "
   ]
  },
  {
   "cell_type": "markdown",
   "metadata": {},
   "source": [
    "Problem Statement 2: \n",
    " \n",
    "The college bookstore tells prospective students that the average cost of its textbooks is Rs. 52 with a standard deviation of Rs. 4.50. A group of smart statistics students thinks that the average cost is higher. To test the bookstore’s claim against their alternative, the students will select a random sample of size 100. Assume that the mean from their random sample is Rs. 52.80. Perform a hypothesis test at the 5% level of significance and state your decision. "
   ]
  },
  {
   "cell_type": "code",
   "execution_count": 5,
   "metadata": {},
   "outputs": [
    {
     "name": "stdout",
     "output_type": "stream",
     "text": [
      "Z Score: 1.7777777777777715\n",
      "SE: 0.45\n",
      "p(0.05) from z table: -1.64\n",
      "we accept the null hypothesis that the mean and the sd of the population is 52 and 4.5 respectively\n"
     ]
    }
   ],
   "source": [
    "import math\n",
    "mu = 52\n",
    "sd = 4.5\n",
    "n = 100\n",
    "x = 52.8\n",
    "sig = .05\n",
    "SE = sd/math.sqrt(100)\n",
    "z = (x - mu)/SE\n",
    "print('Z Score: {}'.format(z))\n",
    "print('SE: {}'.format(SE))\n",
    "#P(0.05) from Z table\n",
    "Z_05 = -1.64\n",
    "print('p(0.05) from z table: {}'.format(Z_05))\n",
    "print('we accept the null hypothesis that the mean and the sd of the population is 52 and 4.5 respectively')"
   ]
  },
  {
   "cell_type": "markdown",
   "metadata": {},
   "source": [
    "Problem Statement 3:  \n",
    " \n",
    "A certain chemical pollutant in the Genesee River has been constant for several years with mean μ = 34 ppm (parts per million) and standard deviation σ = 8 ppm. A group of factory representatives whose companies discharge liquids into the river is now claiming that they have lowered the average with improved filtration devices. A group of environmentalists will test to see if this is true at the 1% level of significance. Assume \\ that their sample of size 50 gives a mean of 32.5 ppm. Perform a hypothesis test at the 1% level of significance and state your decision. "
   ]
  },
  {
   "cell_type": "code",
   "execution_count": 7,
   "metadata": {},
   "outputs": [
    {
     "name": "stdout",
     "output_type": "stream",
     "text": [
      "Z Score: -1.875\n",
      "SE: 0.8\n",
      "p(0.05) from z table: -2.33\n",
      "we accept the null hypothesis that the mean and the sd of the population is 34 and 8 respectively\n"
     ]
    }
   ],
   "source": [
    "import math\n",
    "mu = 34\n",
    "sd = 8\n",
    "n = 50\n",
    "x = 32.5\n",
    "sig = .01\n",
    "SE = sd/math.sqrt(100)\n",
    "z = (x - mu)/SE\n",
    "print('Z Score: {}'.format(z))\n",
    "print('SE: {}'.format(SE))\n",
    "#P(0.05) from Z table\n",
    "Z_05 = -2.33\n",
    "print('p(0.05) from z table: {}'.format(Z_05))\n",
    "print('we accept the null hypothesis that the mean and the sd of the population is 34 and 8 respectively')"
   ]
  },
  {
   "cell_type": "markdown",
   "metadata": {},
   "source": [
    "Problem Statement 4:  \n",
    " \n",
    "Based on population figures and other general information on the U.S. population, suppose it has been estimated that, on average, a family of four in the U.S. spends about $1135 annually on dental expenditures. Suppose further that a regional dental association wants to test to determine if this figure is accurate for their area of country. To test this, 22 families of 4 are randomly selected from the population in that area of the country and a log is kept of the family’s dental expenditure for one year. The resulting data are given below. Assuming, that dental expenditure is normally distributed in the population, use the data and an alpha of 0.5 to test the dental association’s hypothesis. \n",
    " \n",
    "1008, 812, 1117, 1323, 1308, 1415, 831, 1021, 1287, 851, 930, 730, 699, 872, 913, 944, 954, 987, 1695, 995, 1003, 994 "
   ]
  },
  {
   "cell_type": "markdown",
   "metadata": {},
   "source": [
    "conducting T test because sample size <30"
   ]
  },
  {
   "cell_type": "code",
   "execution_count": 17,
   "metadata": {},
   "outputs": [
    {
     "name": "stdout",
     "output_type": "stream",
     "text": [
      "the mean is 1031.3181818181818\n",
      "the SE is 234.85\n",
      "T value: -2.07072954654949\n",
      "p(0.05) from T table - one tail T test with 21 DOF: 1.721\n",
      "p(0.025) from T table - two tail T test with 21 DOF: 2.08\n",
      "we accept the null hypothesis that the mean of the population is 1135 respectively\n"
     ]
    }
   ],
   "source": [
    "import numpy as np\n",
    "mu = 1135\n",
    "n = 22\n",
    "x = np.array([1008, 812, 1117, 1323, 1308, 1415, 831, 1021, 1287, 851, 930, 730, 699, 872, 913, 944, 954, 987, 1695, 995, 1003, 994 ])\n",
    "print(f'the mean is {x.mean()}')\n",
    "print(f'the SE is {round(np.std(x),2)}')\n",
    "SE = round(np.std(x),2)/math.sqrt(n)\n",
    "T = (x.mean() - mu)/SE\n",
    "print('T value: {}'.format(T))\n",
    "T_05 = 1.721\n",
    "print('p(0.05) from T table - one tail T test with 21 DOF: {}'.format(T_05))\n",
    "T_025 = 2.08\n",
    "print('p(0.025) from T table - two tail T test with 21 DOF: {}'.format(T_025))\n",
    "print('we accept the null hypothesis that the mean of the population is 1135 respectively')"
   ]
  },
  {
   "cell_type": "markdown",
   "metadata": {},
   "source": [
    "Problem Statement 5:  \n",
    " \n",
    "In a report prepared by the Economic Research Department of a major bank the Department manager maintains that the average annual family income on Metropolis is $48,432. What do you conclude about the validity of the report if a random sample of 400 families shows and average income of $48,574 with a standard deviation of 2000? "
   ]
  },
  {
   "cell_type": "code",
   "execution_count": 16,
   "metadata": {},
   "outputs": [
    {
     "name": "stdout",
     "output_type": "stream",
     "text": [
      "Z Score: 1.42\n",
      "p(0.05) from z table: -1.64\n",
      "we accept the null hypothesis that the mean and the sd of the population is 48432\n"
     ]
    }
   ],
   "source": [
    "import math\n",
    "mu = 48432\n",
    "n = 400\n",
    "x = 48574 \n",
    "sig = .05\n",
    "SD = 2000\n",
    "SE = SD/math.sqrt(n)\n",
    "z = (x - mu)/SE\n",
    "print('Z Score: {}'.format(z))\n",
    "#P(0.05) from Z table\n",
    "Z_05 = -1.64\n",
    "print('p(0.05) from z table: {}'.format(Z_05))\n",
    "print(f'we accept the null hypothesis that the mean and the sd of the population is {mu}')"
   ]
  },
  {
   "cell_type": "markdown",
   "metadata": {},
   "source": [
    "Problem Statement 6: \n",
    " \n",
    "Suppose that in past years the average price per square foot for warehouses in the United States has been $32.28. A national real estate investor wants to determine whether that figure has changed now. The investor hires a researcher who randomly samples 19 warehouses that are for sale across the United States and finds that the mean price per square foot is $31.67, with a standard deviation of $1.29. assume that the prices of warehouse footage are normally distributed in population. If the researcher uses a 5% level of significance, what statistical conclusion can be reached? What are the hypotheses? "
   ]
  },
  {
   "cell_type": "markdown",
   "metadata": {},
   "source": [
    "T test because n<30"
   ]
  },
  {
   "cell_type": "code",
   "execution_count": 19,
   "metadata": {},
   "outputs": [
    {
     "name": "stdout",
     "output_type": "stream",
     "text": [
      "T value: -2.06118477175179\n",
      "p(0.05) from T table - one tail T test with 18 DOF: 1.734\n",
      "p(0.025) from T table - two tail T test with 18 DOF: 2.101\n",
      "we reject the null hypothesis that the mean of the population is 32.28 respectively\n"
     ]
    }
   ],
   "source": [
    "import numpy as np\n",
    "mu = 32.28\n",
    "n = 19\n",
    "x = 31.67\n",
    "SD = 1.29\n",
    "SE = 1.29/math.sqrt(n)\n",
    "T = (x - mu)/SE\n",
    "print('T value: {}'.format(T))\n",
    "T_05 = 1.734\n",
    "print('p(0.05) from T table - one tail T test with 18 DOF: {}'.format(T_05))\n",
    "T_025 = 2.101\n",
    "print('p(0.025) from T table - two tail T test with 18 DOF: {}'.format(T_025))\n",
    "print('we reject the null hypothesis that the mean of the population is 32.28 respectively')"
   ]
  },
  {
   "cell_type": "markdown",
   "metadata": {},
   "source": [
    "Problem Statement 8: \n",
    " \n",
    "Find the t-score for a sample size of 16 taken from a population with mean 10 when the sample mean is 12 and the sample standard deviation is 1.5.  "
   ]
  },
  {
   "cell_type": "code",
   "execution_count": 20,
   "metadata": {},
   "outputs": [
    {
     "name": "stdout",
     "output_type": "stream",
     "text": [
      "T value: 5.333333333333333\n"
     ]
    }
   ],
   "source": [
    "import numpy as np\n",
    "mu = 10\n",
    "n = 16\n",
    "x = 12\n",
    "SD = 1.5\n",
    "SE = SD/math.sqrt(n)\n",
    "T = (x - mu)/SE\n",
    "print('T value: {}'.format(T))"
   ]
  },
  {
   "cell_type": "markdown",
   "metadata": {},
   "source": [
    "blem Statement 9: \n",
    " \n",
    "Find the t-score below which we can expect 99% of sample means will fall if samples of size 16 are taken from a normally distributed population. "
   ]
  },
  {
   "cell_type": "code",
   "execution_count": 21,
   "metadata": {},
   "outputs": [],
   "source": [
    "sig = 1-0.99\n",
    "DOF = 16-1\n",
    "T_value = -2.602"
   ]
  },
  {
   "cell_type": "markdown",
   "metadata": {},
   "source": [
    "Problem Statement 10:  \n",
    " \n",
    "If a random sample of size 25 drawn from a normal population gives a mean of 60 and a standard deviation of 4, find the range of t-scores where we can expect to find the middle 95% of all sample means. Compute the probability that (−𝑡0.05 <𝑡<𝑡0.10). "
   ]
  },
  {
   "cell_type": "code",
   "execution_count": 25,
   "metadata": {},
   "outputs": [
    {
     "data": {
      "text/plain": [
       "61.36872"
      ]
     },
     "execution_count": 25,
     "metadata": {},
     "output_type": "execute_result"
    }
   ],
   "source": [
    "import numpy as np\n",
    "mu = 60\n",
    "n = 25\n",
    "SD = 4\n",
    "SE =  SD/math.sqrt(n)\n",
    "#one tail T test T_0.05 from T table\n",
    "T_value = 1.7109\n",
    "x = T_value*SE + mu\n",
    "x"
   ]
  },
  {
   "cell_type": "markdown",
   "metadata": {},
   "source": [
    "Problem Statement 11: \n",
    " \n",
    "Two-tailed test for difference between two population means Is there evidence to conclude that the number of people travelling from Bangalore to Chennai is different from the number of people travelling from Bangalore to Hosur in a week, given the following: Population 1: Bangalore to Chennai n1 = 1200 x1 = 452 s1 = 212 Population 2: Bangalore to Hosur n2 = 800 x2 = 523 s2 = 185 "
   ]
  },
  {
   "cell_type": "code",
   "execution_count": 14,
   "metadata": {},
   "outputs": [
    {
     "name": "stdout",
     "output_type": "stream",
     "text": [
      "SE:8.957375917830698\n",
      "Z:-7.926428526759299\n",
      "Since -7.93 is much lesser than -1.96, we will have to reject our H0 and accept H1 ad there is enough evidence of the H1 being correct\n"
     ]
    }
   ],
   "source": [
    "#H0---> mean of two population is the same\n",
    "#H1---> mean of two population is difference\n",
    "#bangalore to chennai\n",
    "import math\n",
    "n1 = 1200\n",
    "x1 = 452\n",
    "s1 = 212\n",
    "#bangalore to hoisur\n",
    "n2 = 800\n",
    "x2 = 523\n",
    "s2 = 185\n",
    "\n",
    "SE = math.sqrt(((s1**2)/n1) +((s2**2)/n2))\n",
    "print('SE:{}'.format(SE))\n",
    "#assuming pop mean is same mu1 and mu2 cancels out each other\n",
    "Z = (x1-x2)/SE\n",
    "print('Z:{}'.format(Z))\n",
    "#Since, it is a two tailed test, we need to find critical value for 2.5% on each tail.\n",
    "#Z(2.5%) = 1.96  \n",
    "#Z(-2.5%) = -1.96\n",
    "print('Since -7.93 is much lesser than -1.96, we will have to reject our H0 and accept H1 ad there is enough evidence of the H1 being correct')"
   ]
  },
  {
   "cell_type": "markdown",
   "metadata": {},
   "source": [
    "Problem Statement 12: \n",
    " \n",
    "Is there evidence to conclude that the number of people preferring Duracell battery is different from the number of people preferring Energizer battery, given the following: Population 1: Duracell n1 = 100 x1 = 308 s1 = 84 Population 2: Energizer n2 = 100 x2 = 254 s2 = 67 \n",
    " \n",
    " "
   ]
  },
  {
   "cell_type": "code",
   "execution_count": 13,
   "metadata": {},
   "outputs": [
    {
     "name": "stdout",
     "output_type": "stream",
     "text": [
      "SE:10.74476616776745\n",
      "Z:5.025702668336442\n",
      "Since 5.025 is much greater than 1.96, we will have to reject our H0 and accept H1 ad there is enough evidence of the H1 being correct\n"
     ]
    }
   ],
   "source": [
    "#H0---> mean of two population is the same\n",
    "#H1---> mean of two population is difference\n",
    "#duracell battery\n",
    "import math\n",
    "n1 = 100\n",
    "x1 = 308\n",
    "s1 = 84\n",
    "#energizer battery\n",
    "n2 = 100\n",
    "x2 = 254\n",
    "s2 = 67\n",
    "\n",
    "SE = math.sqrt(((s1**2)/n1) +((s2**2)/n2))\n",
    "print('SE:{}'.format(SE))\n",
    "#assuming pop mean is same mu1 and mu2 cancels out each other\n",
    "Z = (x1-x2)/SE\n",
    "print('Z:{}'.format(Z))\n",
    "#Since, it is a two tailed test, we need to find critical value for 2.5% on each tail.\n",
    "#Z(2.5%) = 1.96  \n",
    "#Z(-2.5%) = -1.96\n",
    "print('Since 5.025 is much greater than 1.96, we will have to reject our H0 and accept H1 ad there is enough evidence of the H1 being correct')"
   ]
  },
  {
   "cell_type": "markdown",
   "metadata": {},
   "source": [
    "Problem Statement 13:  \n",
    " \n",
    "Pooled estimate of the population variance Does the data provide sufficient evidence to conclude that average percentage increase in the price of sugar differs when it is sold at two different prices? Population 1: Price of sugar = Rs. 27.50 n1 = 14 x1 = 0.317% s1 = 0.12% Population 2: Price of sugar = Rs. 20.00 n2 = 9 x2 = 0.21% s2 = 0.11%"
   ]
  },
  {
   "cell_type": "code",
   "execution_count": 12,
   "metadata": {},
   "outputs": [
    {
     "name": "stdout",
     "output_type": "stream",
     "text": [
      "SE:1.1470112992620956\n",
      "Z:3.938496510807028\n",
      "Since 3.9 is much greater than 1.96, we will have to reject our H0 and accept H1 ad there is enough evidence of the H1 being correct\n"
     ]
    }
   ],
   "source": [
    "#H0---> mean percentage increase of both places is the same\n",
    "#H1---> mean percentage increase of both places is different\n",
    "\n",
    "n1 = 14\n",
    "p1 = 27.5\n",
    "x1 = .317*p1\n",
    "s1 = .12*p1\n",
    "\n",
    "n2 = 9\n",
    "p2 = 20\n",
    "x2 = .21*p2\n",
    "s2 = .11*p2\n",
    "\n",
    "SE = math.sqrt(((s1**2)/n1) +((s2**2)/n2))\n",
    "print('SE:{}'.format(SE))\n",
    "#assuming pop mean is same mu1 and mu2 cancels out each other\n",
    "Z = (x1-x2)/SE\n",
    "print('Z:{}'.format(Z))\n",
    "#Since, it is a two tailed test, we need to find critical value for 2.5% on each tail.\n",
    "#Z(2.5%) = 1.96  \n",
    "#Z(-2.5%) = -1.96\n",
    "print('Since 3.9 is much greater than 1.96, we will have to reject our H0 and accept H1 ad there is enough evidence of the H1 being correct')"
   ]
  },
  {
   "cell_type": "markdown",
   "metadata": {},
   "source": [
    "Problem Statement 14:   The manufacturers of compact disk players want to test whether a small price reduction is enough to increase sales of their product. Is there evidence that the small price reduction is enough to increase sales of compact disk players? Population 1: Before reduction n1 = 15 x1 = Rs. 6598 s1 = Rs. 844 Population 2: After reduction n2 = 12 x2 = RS. 6870 s2 = Rs. 669 "
   ]
  },
  {
   "cell_type": "code",
   "execution_count": 27,
   "metadata": {},
   "outputs": [
    {
     "name": "stdout",
     "output_type": "stream",
     "text": [
      "SE:291.1800416695256\n",
      "Z:-0.9341299576730813\n",
      "Since -0.93 is much greater than -1.96, we will have to accept our H0 is correct that the sales have not increased after price reduction\n"
     ]
    }
   ],
   "source": [
    "#H0---> sales after price reduction will be same\n",
    "#H1---> sales after price reduction will be different\n",
    "\n",
    "n1 = 15\n",
    "x1 = 6598\n",
    "s1 = 844\n",
    "\n",
    "n2 = 12\n",
    "x2 = 6870\n",
    "s2 = 669\n",
    "\n",
    "SE = math.sqrt(((s1**2)/n1) +((s2**2)/n2))\n",
    "print('SE:{}'.format(SE))\n",
    "#assuming pop mean is same mu1 and mu2 cancels out each other\n",
    "Z = (x1-x2)/SE\n",
    "print('Z:{}'.format(Z))\n",
    "#Since, it is a two tailed test, we need to find critical value for 2.5% on each tail.\n",
    "#Z(2.5%) = 1.96  \n",
    "#Z(-2.5%) = -1.96\n",
    "print('Since -0.93 is much greater than -1.96, we will have to accept our H0 is correct that the sales have not increased after price reduction')"
   ]
  },
  {
   "cell_type": "markdown",
   "metadata": {},
   "source": [
    "Problem Statement 15:  \n",
    " \n",
    "Comparisons of two population proportions when the hypothesized difference is zero Carry out a two-tailed test of the equality of banks’ share of the car loan market in 1980 and 1995. Population 1: 1980 n1 = 1000 x1 = 53 𝑝  1 = 0.53 Population 2: 1985 n2 = 100 x2 = 43 𝑝  2= 0.43 "
   ]
  },
  {
   "cell_type": "code",
   "execution_count": 26,
   "metadata": {},
   "outputs": [
    {
     "name": "stdout",
     "output_type": "stream",
     "text": [
      "Z:1.4153462926807454\n",
      "Since 1.41 is not greater than 1.96, we will have to accept our H0 at 5% signifance\n",
      "Since 1.41 is not greater than 1.64, we will have to accept our H0 at 10% signifance\n"
     ]
    }
   ],
   "source": [
    "#Hypothised difference is zero\n",
    "#H0---> there is no statistically significant difference in bank's share of car loan in 1980 and 1985\n",
    "#H1---> bank's share of car loan in 1980 and 1985 is statiscally different\n",
    "\n",
    "n1 = 100\n",
    "x1 = 53\n",
    "p1 = .53\n",
    "\n",
    "n2 = 100\n",
    "x2 = 43\n",
    "p2 = .43\n",
    "\n",
    "p = (x1+x2)/(n1+n2)\n",
    "\n",
    "Z = (p1-p2)/math.sqrt(p*(1-p)*(n1+n2)/(n1*n2))\n",
    "print('Z:{}'.format(Z))\n",
    "#Since, it is a two tailed test, we need to find critical value for 2.5% on each tail for 5 % signifacnce.\n",
    "#Z(2.5%) = 1.96  \n",
    "#Z(-2.5%) = -1.96\n",
    "print('Since 1.41 is not greater than 1.96, we will have to accept our H0 at 5% signifance')\n",
    "#Since, it is a two tailed test, we need to find critical value for 5% on each tail for 10 % signifacnce.\n",
    "#Z(5%) = 1.64\n",
    "#Z(5%) = -1.64\n",
    "print('Since 1.41 is not greater than 1.64, we will have to accept our H0 at 10% signifance')\n"
   ]
  },
  {
   "cell_type": "markdown",
   "metadata": {},
   "source": [
    "Problem Statement 16:  \n",
    " \n",
    "Carry out a one-tailed test to determine whether the population proportion of traveler’s check buyers who buy at least $2500 in checks when sweepstakes prizes are offered as at least 10% higher than the proportion of such buyers when no sweepstakes are on. Population 1: With sweepstakes n1 = 300 x1 = 120 𝑝    = 0.40 Population 2: No sweepstakes n2 = 700 x2 = 140 𝑝  2= 0.20 \n",
    " \n",
    " "
   ]
  },
  {
   "cell_type": "code",
   "execution_count": 29,
   "metadata": {},
   "outputs": [
    {
     "name": "stdout",
     "output_type": "stream",
     "text": [
      "Z:3.1180478223116177\n",
      "Since 3.1180478223116177 is greater than 1.96, we will have to reject our H0 at 5% signifance\n",
      "Since 3.1180478223116177 is greater than 1.64, we will have to reject our H0 at 10% signifance\n"
     ]
    }
   ],
   "source": [
    "#Hypothised difference is non zero\n",
    "#H0: p1 - p2 <=0.1\n",
    "#H1: p1 - p2 >0.1\n",
    "\n",
    "n1 = 300\n",
    "x1 = 120\n",
    "p1 = .40\n",
    "\n",
    "n2 = 700\n",
    "x2 = 140\n",
    "p2 = 0.20\n",
    "\n",
    "p = (x1+x2)/(n1+n2)\n",
    "\n",
    "Z = ((p1-p2) - 0.1)/math.sqrt((p1*(1-p1)/n1) + (p2*(1-p2)/n2))\n",
    "print('Z:{}'.format(Z))\n",
    "#Since, it is a two tailed test, we need to find critical value for 2.5% on each tail for 5 % signifacnce.\n",
    "#Z(2.5%) = 1.96  \n",
    "#Z(-2.5%) = -1.96\n",
    "print(f'Since {Z} is greater than 1.96, we will have to reject our H0 at 5% signifance')\n",
    "#Since, it is a two tailed test, we need to find critical value for 5% on each tail for 10 % signifacnce.\n",
    "#Z(5%) = 1.64\n",
    "#Z(5%) = -1.64\n",
    "print(f'Since {Z} is greater than 1.64, we will have to reject our H0 at 10% signifance')\n"
   ]
  },
  {
   "cell_type": "markdown",
   "metadata": {},
   "source": [
    "\n",
    " Problem Statement 17:  \n",
    " \n",
    "A die is thrown 132 times with the following results: Number turned up: 1, 2, 3, 4, 5, 6 Frequency: 16, 20, 25, 14, 29, 28 Is the die unbiased? Consider the degrees of freedom as 𝑝  − 1 . "
   ]
  },
  {
   "cell_type": "markdown",
   "metadata": {},
   "source": [
    "Chi Square Testing"
   ]
  },
  {
   "cell_type": "code",
   "execution_count": 45,
   "metadata": {},
   "outputs": [
    {
     "name": "stdout",
     "output_type": "stream",
     "text": [
      "Degree of Freedom:- 5\n"
     ]
    }
   ],
   "source": [
    "import numpy as np\n",
    "Observed_values = np.array([16, 20, 25, 14, 29, 28])\n",
    "Expected_values = np.array([22,22,22,22,22,22])\n",
    "ddof=(len(Observed_values)-1)\n",
    "print(\"Degree of Freedom:-\",ddof)\n",
    "alpha = 0.05"
   ]
  },
  {
   "cell_type": "code",
   "execution_count": 46,
   "metadata": {},
   "outputs": [
    {
     "data": {
      "text/plain": [
       "[(16, 22), (20, 22), (25, 22), (14, 22), (29, 22), (28, 22)]"
      ]
     },
     "execution_count": 46,
     "metadata": {},
     "output_type": "execute_result"
    }
   ],
   "source": [
    "list(zip(Observed_values,Expected_values))"
   ]
  },
  {
   "cell_type": "code",
   "execution_count": 48,
   "metadata": {},
   "outputs": [
    {
     "name": "stdout",
     "output_type": "stream",
     "text": [
      "chi-square statistic: 9.0\n"
     ]
    }
   ],
   "source": [
    "from scipy.stats import chi2\n",
    "chi_square=sum([((o-e)**2)/e for o,e in zip(Observed_values,Expected_values)])\n",
    "print(\"chi-square statistic: {}\".format(chi_square))"
   ]
  },
  {
   "cell_type": "code",
   "execution_count": 50,
   "metadata": {},
   "outputs": [
    {
     "name": "stdout",
     "output_type": "stream",
     "text": [
      "critical_value: 11.070497693516351\n"
     ]
    }
   ],
   "source": [
    "critical_value=chi2.ppf(q=1-alpha,df=ddof)\n",
    "print('critical_value:',critical_value)"
   ]
  },
  {
   "cell_type": "code",
   "execution_count": 51,
   "metadata": {},
   "outputs": [
    {
     "name": "stdout",
     "output_type": "stream",
     "text": [
      "p-value: 0.10906415794977253\n",
      "Significance level:  0.05\n",
      "Degree of Freedom:  5\n",
      "p-value: 0.10906415794977253\n"
     ]
    }
   ],
   "source": [
    "#p-value\n",
    "p_value=1-chi2.cdf(x=chi_square,df=ddof)\n",
    "print('p-value:',p_value)\n",
    "print('Significance level: ',alpha)\n",
    "print('Degree of Freedom: ',ddof)\n",
    "print('p-value:',p_value)"
   ]
  },
  {
   "cell_type": "code",
   "execution_count": 53,
   "metadata": {},
   "outputs": [
    {
     "name": "stdout",
     "output_type": "stream",
     "text": [
      "Accept H0: there is no evidence against the hypothesis that die is unbiased\n",
      "Accept H0: there is no evidence against the hypothesis that die is unbiased\n"
     ]
    }
   ],
   "source": [
    "if chi_square>=critical_value:\n",
    "    print(\"Reject H0: the die is biased\")\n",
    "else:\n",
    "    print(\"Accept H0: there is no evidence against the hypothesis that die is unbiased\")\n",
    "    \n",
    "if p_value<=alpha:\n",
    "    print(\"Reject H0: the die is biased\")\n",
    "else:\n",
    "    print(\"Accept H0: there is no evidence against the hypothesis that die is unbiased\")"
   ]
  },
  {
   "cell_type": "markdown",
   "metadata": {},
   "source": [
    "Problem Statement 18:  \n",
    " \n",
    "In a certain town, there are about one million eligible voters. A simple random sample of 10,000 eligible voters was chosen to study the relationship between gender and participation in the last election. The results are summarized in the following 2X2 (read two by two) contingency table: \n",
    " \n",
    " "
   ]
  },
  {
   "attachments": {
    "stat_prob_18.jpg": {
     "image/jpeg": "[encoded data removed]"
    }
   },
   "cell_type": "markdown",
   "metadata": {},
   "source": [
    "![stat_prob_18.jpg](attachment:stat_prob_18.jpg)"
   ]
  },
  {
   "cell_type": "markdown",
   "metadata": {},
   "source": [
    "We would want to check whether being a man or a woman (columns) is independent of having voted in the last election (rows). In other words, is “gender and voting independent”? "
   ]
  },
  {
   "cell_type": "code",
   "execution_count": null,
   "metadata": {},
   "outputs": [],
   "source": [
    "#H0: Gender and voting is independant\n",
    "#H1: gender and voting is dependant"
   ]
  },
  {
   "cell_type": "code",
   "execution_count": 54,
   "metadata": {},
   "outputs": [],
   "source": [
    "import scipy.stats as stats\n",
    "import seaborn as sns\n",
    "import pandas as pd\n",
    "import numpy as np"
   ]
  },
  {
   "cell_type": "code",
   "execution_count": 62,
   "metadata": {},
   "outputs": [
    {
     "name": "stdout",
     "output_type": "stream",
     "text": [
      "Observed Values :-\n",
      " [[2792 3591]\n",
      " [1486 2131]]\n",
      "Expected_values :-\n",
      " [[2730.6474 3652.3526]\n",
      " [1547.3526 2069.6474]]\n",
      "Degree of Freedom:- 1\n"
     ]
    }
   ],
   "source": [
    "import numpy as np\n",
    "Observed_values = np.array([[2792,3591],[1486,2131]])\n",
    "print(\"Observed Values :-\\n\",Observed_values)\n",
    "Expected_values=stats.chi2_contingency(Observed_values )\n",
    "print(\"Expected_values :-\\n\",Expected_values[3])\n",
    "ddof=(len(Observed_values)-1)*(len(Observed_values)-1)\n",
    "print(\"Degree of Freedom:-\",ddof)\n",
    "alpha = 0.05"
   ]
  },
  {
   "cell_type": "code",
   "execution_count": 61,
   "metadata": {},
   "outputs": [
    {
     "name": "stdout",
     "output_type": "stream",
     "text": [
      "chi-square statistic:- 6.660455899328067\n"
     ]
    }
   ],
   "source": [
    "from scipy.stats import chi2\n",
    "chi_square=sum([((o-e)**2)/e for o,e in zip(Observed_values,Expected_values[3])])\n",
    "chi_square_statistic=chi_square[0]+chi_square[1]\n",
    "print(\"chi-square statistic:-\",chi_square_statistic)"
   ]
  },
  {
   "cell_type": "code",
   "execution_count": 63,
   "metadata": {},
   "outputs": [
    {
     "name": "stdout",
     "output_type": "stream",
     "text": [
      "critical_value: 3.841458820694124\n"
     ]
    }
   ],
   "source": [
    "critical_value=chi2.ppf(q=1-alpha,df=ddof)\n",
    "print('critical_value:',critical_value)"
   ]
  },
  {
   "cell_type": "code",
   "execution_count": 64,
   "metadata": {},
   "outputs": [
    {
     "name": "stdout",
     "output_type": "stream",
     "text": [
      "p-value: 0.009857569318958315\n",
      "Significance level:  0.05\n",
      "Degree of Freedom:  1\n",
      "p-value: 0.009857569318958315\n"
     ]
    }
   ],
   "source": [
    "#p-value\n",
    "p_value=1-chi2.cdf(x=chi_square_statistic,df=ddof)\n",
    "print('p-value:',p_value)\n",
    "print('Significance level: ',alpha)\n",
    "print('Degree of Freedom: ',ddof)\n",
    "print('p-value:',p_value)"
   ]
  },
  {
   "cell_type": "code",
   "execution_count": 66,
   "metadata": {},
   "outputs": [
    {
     "name": "stdout",
     "output_type": "stream",
     "text": [
      "Reject H0,There is a relationship between gender and voting\n",
      "Reject H0,There is a relationship between gender and voting\n"
     ]
    }
   ],
   "source": [
    "if chi_square_statistic>=critical_value:\n",
    "    print(\"Reject H0,There is a relationship between gender and voting\")\n",
    "else:\n",
    "    print(\"Accept H0,There is no relationship between gender and voting\")\n",
    "    \n",
    "if p_value<=alpha:\n",
    "    print(\"Reject H0,There is a relationship between gender and voting\")\n",
    "else:\n",
    "    print(\"Accept H0,There is no relationship between gender and voting\")"
   ]
  },
  {
   "cell_type": "markdown",
   "metadata": {},
   "source": [
    "A sample of 100 voters are asked which of four candidates they would vote for in an election. The number supporting each candidate is given below: \n",
    " \n",
    " \n",
    " \n",
    "Do the data suggest that all candidates are equally popular? [Chi-Square = 14.96, with 3 df, 𝑝    0.05 . \n",
    " "
   ]
  },
  {
   "attachments": {
    "stat_prob_19.jpg": {
     "image/jpeg": "[encoded data removed]"
    }
   },
   "cell_type": "markdown",
   "metadata": {},
   "source": [
    "![stat_prob_19.jpg](attachment:stat_prob_19.jpg)"
   ]
  },
  {
   "cell_type": "code",
   "execution_count": null,
   "metadata": {},
   "outputs": [],
   "source": [
    "#H0: candidates are equally popular\n",
    "#H1: candidates are not equally popular"
   ]
  },
  {
   "cell_type": "code",
   "execution_count": 69,
   "metadata": {},
   "outputs": [
    {
     "name": "stdout",
     "output_type": "stream",
     "text": [
      "Observed Values :-\n",
      " [41 19 24 16]\n",
      "Expected_values :-\n",
      " [25 25 25 25]\n",
      "Degree of Freedom:- 3\n"
     ]
    }
   ],
   "source": [
    "import numpy as np\n",
    "Observed_values = np.array([41,19,24,16])\n",
    "print(\"Observed Values :-\\n\",Observed_values)\n",
    "Expected_values=np.array([25,25,25,25])\n",
    "print(\"Expected_values :-\\n\",Expected_values)\n",
    "ddof=(len(Observed_values)-1)\n",
    "print(\"Degree of Freedom:-\",ddof)\n",
    "alpha = 0.05"
   ]
  },
  {
   "cell_type": "code",
   "execution_count": 70,
   "metadata": {},
   "outputs": [
    {
     "name": "stdout",
     "output_type": "stream",
     "text": [
      "chi-square:- 14.959999999999999\n"
     ]
    }
   ],
   "source": [
    "from scipy.stats import chi2\n",
    "chi_square=sum([((o-e)**2)/e for o,e in zip(Observed_values,Expected_values)])\n",
    "print(\"chi-square:-\",chi_square)"
   ]
  },
  {
   "cell_type": "code",
   "execution_count": 71,
   "metadata": {},
   "outputs": [
    {
     "name": "stdout",
     "output_type": "stream",
     "text": [
      "critical_value: 7.814727903251179\n"
     ]
    }
   ],
   "source": [
    "critical_value=chi2.ppf(q=1-alpha,df=ddof)\n",
    "print('critical_value:',critical_value)"
   ]
  },
  {
   "cell_type": "code",
   "execution_count": 72,
   "metadata": {},
   "outputs": [
    {
     "name": "stdout",
     "output_type": "stream",
     "text": [
      "p-value: 0.08354483102552324\n",
      "Significance level:  0.05\n",
      "Degree of Freedom:  3\n",
      "p-value: 0.08354483102552324\n"
     ]
    }
   ],
   "source": [
    "#p-value\n",
    "p_value=1-chi2.cdf(x=chi_square_statistic,df=ddof)\n",
    "print('p-value:',p_value)\n",
    "print('Significance level: ',alpha)\n",
    "print('Degree of Freedom: ',ddof)\n",
    "print('p-value:',p_value)"
   ]
  },
  {
   "cell_type": "code",
   "execution_count": 73,
   "metadata": {},
   "outputs": [
    {
     "name": "stdout",
     "output_type": "stream",
     "text": [
      "Accept H0,candidates are not equally popular\n",
      "Accept H0,candidates are not equally popular\n"
     ]
    }
   ],
   "source": [
    "if chi_square_statistic>=critical_value:\n",
    "    print(\"Reject H0,candidates are equally popular\")\n",
    "else:\n",
    "    print(\"Accept H0,candidates are not equally popular\")\n",
    "    \n",
    "if p_value<=alpha:\n",
    "    print(\"Reject H0,candidates are equally popular\")\n",
    "else:\n",
    "    print(\"Accept H0,candidates are not equally popular\")"
   ]
  },
  {
   "cell_type": "markdown",
   "metadata": {},
   "source": [
    "Problem Statement 20: \n",
    "Children of three ages are asked to indicate their preference for three photographs of adults. Do the data suggest that there is a significant relationship between age and photograph preference? What is wrong with this study? [Chi-Square = 29.6, with 4 df: 𝑝  < 0.05]. \n",
    " "
   ]
  },
  {
   "attachments": {
    "stat_prob_20.jpg": {
     "image/jpeg": "[encoded data removed]"
    }
   },
   "cell_type": "markdown",
   "metadata": {},
   "source": [
    "![stat_prob_20.jpg](attachment:stat_prob_20.jpg)"
   ]
  },
  {
   "cell_type": "code",
   "execution_count": null,
   "metadata": {},
   "outputs": [],
   "source": [
    "#H0: there is no signifcatnt relationship between the ages and choosing of photograph\n",
    "#H1: there is signifcatnt relationship between the ages and choosing of photograph"
   ]
  },
  {
   "cell_type": "code",
   "execution_count": 76,
   "metadata": {},
   "outputs": [
    {
     "name": "stdout",
     "output_type": "stream",
     "text": [
      "Observed Values :-\n",
      " [[18 22 20]\n",
      " [ 2 28 40]\n",
      " [20 10 40]]\n",
      "Expected_values :-\n",
      " [[12. 18. 30.]\n",
      " [14. 21. 35.]\n",
      " [14. 21. 35.]]\n",
      "Degree of Freedom:- 4\n"
     ]
    }
   ],
   "source": [
    "import numpy as np\n",
    "Observed_values = np.array([[18,22,20],[2,28,40],[20,10,40]])\n",
    "print(\"Observed Values :-\\n\",Observed_values)\n",
    "Expected_values=stats.chi2_contingency(Observed_values)\n",
    "print(\"Expected_values :-\\n\",Expected_values[3])\n",
    "ddof=(len(Observed_values)-1)*(len(Observed_values)-1)\n",
    "print(\"Degree of Freedom:-\",ddof)\n",
    "alpha = 0.05"
   ]
  },
  {
   "cell_type": "code",
   "execution_count": 77,
   "metadata": {},
   "outputs": [
    {
     "name": "stdout",
     "output_type": "stream",
     "text": [
      "chi-square statistic:- 24.841269841269842\n"
     ]
    }
   ],
   "source": [
    "from scipy.stats import chi2\n",
    "chi_square=sum([((o-e)**2)/e for o,e in zip(Observed_values,Expected_values[3])])\n",
    "chi_square_statistic=chi_square[0]+chi_square[1]\n",
    "print(\"chi-square statistic:-\",chi_square_statistic)"
   ]
  },
  {
   "cell_type": "code",
   "execution_count": 78,
   "metadata": {},
   "outputs": [
    {
     "name": "stdout",
     "output_type": "stream",
     "text": [
      "critical_value: 9.487729036781154\n"
     ]
    }
   ],
   "source": [
    "critical_value=chi2.ppf(q=1-alpha,df=ddof)\n",
    "print('critical_value:',critical_value)"
   ]
  },
  {
   "cell_type": "code",
   "execution_count": 79,
   "metadata": {},
   "outputs": [
    {
     "name": "stdout",
     "output_type": "stream",
     "text": [
      "p-value: 5.4145186594634076e-05\n",
      "Significance level:  0.05\n",
      "Degree of Freedom:  4\n",
      "p-value: 5.4145186594634076e-05\n"
     ]
    }
   ],
   "source": [
    "#p-value\n",
    "p_value=1-chi2.cdf(x=chi_square_statistic,df=ddof)\n",
    "print('p-value:',p_value)\n",
    "print('Significance level: ',alpha)\n",
    "print('Degree of Freedom: ',ddof)\n",
    "print('p-value:',p_value)"
   ]
  },
  {
   "cell_type": "code",
   "execution_count": 81,
   "metadata": {},
   "outputs": [
    {
     "name": "stdout",
     "output_type": "stream",
     "text": [
      "Reject H0,there is signifcatnt relationship between the ages and choosing of photograph\n",
      "Reject H0,there is signifcatnt relationship between the ages and choosing of photographr\n"
     ]
    }
   ],
   "source": [
    "if chi_square_statistic>=critical_value:\n",
    "    print(\"Reject H0,there is signifcatnt relationship between the ages and choosing of photograph\")\n",
    "else:\n",
    "    print(\"Accept H0,there is no signifcatnt relationship between the ages and choosing of photograph\")\n",
    "    \n",
    "if p_value<=alpha:\n",
    "    print(\"Reject H0,there is signifcatnt relationship between the ages and choosing of photographr\")\n",
    "else:\n",
    "    print(\"Accept H0,there is no signifcatnt relationship between the ages and choosing of photograph\")"
   ]
  },
  {
   "cell_type": "markdown",
   "metadata": {},
   "source": [
    "#The study is wrong becaause 3 age groups have been taken. The study should have been if 3 photographs are equally popular"
   ]
  },
  {
   "cell_type": "markdown",
   "metadata": {},
   "source": [
    "We want to test whether short people differ with respect to their leadership qualities (Genghis Khan, Adolf Hitler and Napoleon were all stature-deprived, and how many midget MP's are there?) The following table shows the frequencies with which 43 short people and 52 tall people were categorized as \"leaders\", \"followers\" or as \"unclassifiable\". Is there a relationship between height and leadership qualities?  \n",
    "[Chi-Square = 10.71, with 2 df: 𝑝  < 0.01]. "
   ]
  },
  {
   "attachments": {
    "stat_prob_22.jpg": {
     "image/jpeg": "[encoded data removed]"
    }
   },
   "cell_type": "markdown",
   "metadata": {},
   "source": [
    "![stat_prob_22.jpg](attachment:stat_prob_22.jpg)"
   ]
  },
  {
   "cell_type": "markdown",
   "metadata": {},
   "source": [
    "#H0: short people doesnt not differ with respect to their leadership qualities from tall people\n",
    "#H1: short people differ with respect to their leadership qualities from tall people"
   ]
  },
  {
   "cell_type": "code",
   "execution_count": 87,
   "metadata": {},
   "outputs": [
    {
     "name": "stdout",
     "output_type": "stream",
     "text": [
      "Observed Values :-\n",
      " [[12 32]\n",
      " [22 14]\n",
      " [ 9  6]]\n",
      "Expected_values :-\n",
      " [[19.91578947 24.08421053]\n",
      " [16.29473684 19.70526316]\n",
      " [ 6.78947368  8.21052632]]\n",
      "Degree of Freedom:- 4\n"
     ]
    }
   ],
   "source": [
    "import numpy as np\n",
    "Observed_values = np.array([[12,32],[22,14],[9,6]])\n",
    "print(\"Observed Values :-\\n\",Observed_values)\n",
    "Expected_values=stats.chi2_contingency(Observed_values)\n",
    "print(\"Expected_values :-\\n\",Expected_values[3])\n",
    "ddof=(len(Observed_values)-1)*(len(Observed_values)-1)\n",
    "print(\"Degree of Freedom:-\",ddof)\n",
    "alpha = 0.01"
   ]
  },
  {
   "cell_type": "code",
   "execution_count": 88,
   "metadata": {},
   "outputs": [
    {
     "name": "stdout",
     "output_type": "stream",
     "text": [
      "chi-square statistic:- 10.712198008709638\n"
     ]
    }
   ],
   "source": [
    "from scipy.stats import chi2\n",
    "chi_square=sum([((o-e)**2)/e for o,e in zip(Observed_values,Expected_values[3])])\n",
    "chi_square_statistic=chi_square[0]+chi_square[1]\n",
    "print(\"chi-square statistic:-\",chi_square_statistic)"
   ]
  },
  {
   "cell_type": "code",
   "execution_count": 89,
   "metadata": {},
   "outputs": [
    {
     "name": "stdout",
     "output_type": "stream",
     "text": [
      "critical_value: 13.276704135987622\n"
     ]
    }
   ],
   "source": [
    "critical_value=chi2.ppf(q=1-alpha,df=ddof)\n",
    "print('critical_value:',critical_value)"
   ]
  },
  {
   "cell_type": "code",
   "execution_count": 90,
   "metadata": {},
   "outputs": [
    {
     "name": "stdout",
     "output_type": "stream",
     "text": [
      "p-value: 0.02999621178031675\n",
      "Significance level:  0.01\n",
      "Degree of Freedom:  4\n",
      "p-value: 0.02999621178031675\n"
     ]
    }
   ],
   "source": [
    "#p-value\n",
    "p_value=1-chi2.cdf(x=chi_square_statistic,df=ddof)\n",
    "print('p-value:',p_value)\n",
    "print('Significance level: ',alpha)\n",
    "print('Degree of Freedom: ',ddof)\n",
    "print('p-value:',p_value)"
   ]
  },
  {
   "cell_type": "code",
   "execution_count": 92,
   "metadata": {},
   "outputs": [
    {
     "name": "stdout",
     "output_type": "stream",
     "text": [
      "Accept H0,short people differ with respect to their leadership qualities from tall people\n",
      "Accept H0,short people differ with respect to their leadership qualities from tall people\n"
     ]
    }
   ],
   "source": [
    "if chi_square_statistic>=critical_value:\n",
    "    print(\"Reject H0,short people doesnt not differ with respect to their leadership qualities from tall people\")\n",
    "else:\n",
    "    print(\"Accept H0,short people differ with respect to their leadership qualities from tall people\")\n",
    "    \n",
    "if p_value<=alpha:\n",
    "    print(\"Reject H0,short people doesnt not differ with respect to their leadership qualities from tall people\")\n",
    "else:\n",
    "    print(\"Accept H0,short people differ with respect to their leadership qualities from tall people\")"
   ]
  },
  {
   "cell_type": "markdown",
   "metadata": {},
   "source": [
    "Problem Statement 23:  \n",
    " \n",
    "Each respondent in the Current Population Survey of March 1993 was classified as employed, unemployed, or outside the labor force. The results for men in California age 3544 can be cross-tabulated by marital status, as follows: "
   ]
  },
  {
   "attachments": {
    "stat_prob_23.jpg": {
     "image/jpeg": "[encoded data removed]"
    }
   },
   "cell_type": "markdown",
   "metadata": {},
   "source": [
    "![stat_prob_23.jpg](attachment:stat_prob_23.jpg)"
   ]
  },
  {
   "cell_type": "markdown",
   "metadata": {},
   "source": [
    "Men of different marital status seem to have different distributions of labor force status. Or is this just chance variation? (you may assume the table results from a simple random sample.) \n",
    " "
   ]
  },
  {
   "cell_type": "markdown",
   "metadata": {},
   "source": [
    "#H0: Men of different marital status seem to have different distributions of labor force status.\n",
    "#H1: Men of different marital status seem to have same distributions of labor force status."
   ]
  },
  {
   "cell_type": "code",
   "execution_count": 93,
   "metadata": {},
   "outputs": [
    {
     "name": "stdout",
     "output_type": "stream",
     "text": [
      "Observed Values :-\n",
      " [[679 103 114]\n",
      " [ 63  10  20]\n",
      " [ 42  18  25]]\n",
      "Expected_values :-\n",
      " [[654.06331471 109.2886406  132.64804469]\n",
      " [ 67.88826816  11.34357542  13.76815642]\n",
      " [ 62.04841713  10.36778399  12.58379888]]\n",
      "Degree of Freedom:- 4\n"
     ]
    }
   ],
   "source": [
    "import numpy as np\n",
    "Observed_values = np.array([[679,103,114],[63,10,20],[42,18,25]])\n",
    "print(\"Observed Values :-\\n\",Observed_values)\n",
    "Expected_values=stats.chi2_contingency(Observed_values)\n",
    "print(\"Expected_values :-\\n\",Expected_values[3])\n",
    "ddof=(len(Observed_values)-1)*(len(Observed_values)-1)\n",
    "print(\"Degree of Freedom:-\",ddof)\n",
    "alpha = 0.01"
   ]
  },
  {
   "cell_type": "code",
   "execution_count": 94,
   "metadata": {},
   "outputs": [
    {
     "name": "stdout",
     "output_type": "stream",
     "text": [
      "chi-square statistic:- 13.919969199762058\n"
     ]
    }
   ],
   "source": [
    "from scipy.stats import chi2\n",
    "chi_square=sum([((o-e)**2)/e for o,e in zip(Observed_values,Expected_values[3])])\n",
    "chi_square_statistic=chi_square[0]+chi_square[1]\n",
    "print(\"chi-square statistic:-\",chi_square_statistic)"
   ]
  },
  {
   "cell_type": "code",
   "execution_count": 95,
   "metadata": {},
   "outputs": [
    {
     "name": "stdout",
     "output_type": "stream",
     "text": [
      "critical_value: 13.276704135987622\n"
     ]
    }
   ],
   "source": [
    "critical_value=chi2.ppf(q=1-alpha,df=ddof)\n",
    "print('critical_value:',critical_value)"
   ]
  },
  {
   "cell_type": "code",
   "execution_count": 96,
   "metadata": {},
   "outputs": [
    {
     "name": "stdout",
     "output_type": "stream",
     "text": [
      "p-value: 0.007554910462769238\n",
      "Significance level:  0.01\n",
      "Degree of Freedom:  4\n",
      "p-value: 0.007554910462769238\n"
     ]
    }
   ],
   "source": [
    "#p-value\n",
    "p_value=1-chi2.cdf(x=chi_square_statistic,df=ddof)\n",
    "print('p-value:',p_value)\n",
    "print('Significance level: ',alpha)\n",
    "print('Degree of Freedom: ',ddof)\n",
    "print('p-value:',p_value)"
   ]
  },
  {
   "cell_type": "code",
   "execution_count": 98,
   "metadata": {},
   "outputs": [
    {
     "name": "stdout",
     "output_type": "stream",
     "text": [
      "Reject H0,Men of different marital status seem to have same distributions of labor force status.\n",
      "Reject H0,Men of different marital status seem to have same distributions of labor force status.\n"
     ]
    }
   ],
   "source": [
    "if chi_square_statistic>=critical_value:\n",
    "    print(\"Reject H0,Men of different marital status seem to have same distributions of labor force status.\")\n",
    "else:\n",
    "    print(\"Accept H0,Men of different marital status seem to have different distributions of labor force status.\")\n",
    "    \n",
    "if p_value<=alpha:\n",
    "    print(\"Reject H0,Men of different marital status seem to have same distributions of labor force status.\")\n",
    "else:\n",
    "    print(\"Accept H0,Men of different marital status seem to have different distributions of labor force status.\")"
   ]
  },
  {
   "cell_type": "code",
   "execution_count": null,
   "metadata": {},
   "outputs": [],
   "source": []
  }
 ],
 "metadata": {
  "kernelspec": {
   "display_name": "Python 3",
   "language": "python",
   "name": "python3"
  },
  "language_info": {
   "codemirror_mode": {
    "name": "ipython",
    "version": 3
   },
   "file_extension": ".py",
   "mimetype": "text/x-python",
   "name": "python",
   "nbconvert_exporter": "python",
   "pygments_lexer": "ipython3",
   "version": "3.7.6"
  }
 },
 "nbformat": 4,
 "nbformat_minor": 4
}
